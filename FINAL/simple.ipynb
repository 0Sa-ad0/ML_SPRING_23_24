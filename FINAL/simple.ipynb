{
  "nbformat": 4,
  "nbformat_minor": 0,
  "metadata": {
    "colab": {
      "provenance": []
    },
    "kernelspec": {
      "name": "python3",
      "display_name": "Python 3"
    },
    "language_info": {
      "name": "python"
    }
  },
  "cells": [
    {
      "cell_type": "code",
      "execution_count": 1,
      "metadata": {
        "id": "3aBz9n9ghvFO"
      },
      "outputs": [],
      "source": [
        "# Simple Regression Exercise\n",
        "import argparse\n",
        "import sys\n",
        "\n",
        "import numpy as np\n",
        "from matplotlib import pyplot as plt\n",
        "import numpy.linalg as la"
      ]
    },
    {
      "cell_type": "code",
      "source": [
        "# Compute the sample mean and standard deviations for each feature (column) across the training examples (rows) from the data matrix X.\n",
        "def mean_std(X):\n",
        "    mean = np.mean(X, axis=0)\n",
        "    std = np.std(X, axis=0)\n",
        "    return mean, std"
      ],
      "metadata": {
        "id": "QA2mJY59uLi2"
      },
      "execution_count": 2,
      "outputs": []
    },
    {
      "cell_type": "code",
      "source": [
        "# Standardize the features of the examples in X by subtracting their mean and dividing by their standard deviation, as provided in the parameters.\n",
        "def standardize(X, mean, std):\n",
        "    S = (X - mean) / std\n",
        "    return S"
      ],
      "metadata": {
        "id": "y1EWURBquMDX"
      },
      "execution_count": 3,
      "outputs": []
    },
    {
      "cell_type": "code",
      "source": [
        "# Read data matrix X and labels t from text file.\n",
        "def read_data(file_name):\n",
        "    data = np.loadtxt(file_name)\n",
        "    X = data[:, :-1]  # Features are all columns except the last one\n",
        "    t = data[:, -1]   # Last column is the target (house price)\n",
        "    return X, t"
      ],
      "metadata": {
        "id": "oIJkrG-VuMbN"
      },
      "execution_count": 4,
      "outputs": []
    },
    {
      "cell_type": "code",
      "source": [
        "# Implement gradient descent algorithm to compute w = [w0, w1].\n",
        "def train(X, t, eta, epochs):\n",
        "    costs = []\n",
        "    ep = []\n",
        "    w = np.zeros(X.shape[1])  # Initialize weights to zeros\n",
        "    N = X.shape[0]  # Number of training examples\n",
        "\n",
        "    # Gradient descent loop\n",
        "    for epoch in range(epochs + 1):\n",
        "        # Compute predicted values\n",
        "        y_pred = np.dot(X, w)\n",
        "\n",
        "        # Compute cost function\n",
        "        cost = compute_cost(X, t, w)\n",
        "        costs.append(cost)\n",
        "        ep.append(epoch)\n",
        "\n",
        "        # Compute gradient\n",
        "        grad = compute_gradient(X, t, w)\n",
        "\n",
        "        # Update weights\n",
        "        w -= (eta / N) * np.dot(X.T, y_pred - t)\n",
        "\n",
        "        # Print progress every 10 epochs\n",
        "        if epoch % 10 == 0:\n",
        "            print(f'Epoch {epoch}: Cost = {cost}')\n",
        "\n",
        "    return w, ep, costs"
      ],
      "metadata": {
        "id": "A7sLnAexuMwJ"
      },
      "execution_count": 5,
      "outputs": []
    },
    {
      "cell_type": "code",
      "source": [
        "# Compute RMSE on dataset (X, t).\n",
        "def compute_rmse(X, t, w):\n",
        "    y_pred = np.dot(X, w)\n",
        "    rmse = np.sqrt(np.mean((y_pred - t) ** 2))\n",
        "    return rmse"
      ],
      "metadata": {
        "id": "c8fAPYMZuNEJ"
      },
      "execution_count": 6,
      "outputs": []
    },
    {
      "cell_type": "code",
      "source": [
        "# Compute objective function (cost) on dataset (X, t).\n",
        "def compute_cost(X, t, w):\n",
        "    y_pred = np.dot(X, w)\n",
        "    cost = np.mean((y_pred - t) ** 2) / 2\n",
        "    return cost"
      ],
      "metadata": {
        "id": "_LBiDL1tjoiz"
      },
      "execution_count": 7,
      "outputs": []
    },
    {
      "cell_type": "code",
      "source": [
        "# Compute gradient of the objective function (cost) on dataset (X, t).\n",
        "def compute_gradient(X, t, w):\n",
        "    grad = np.dot(X.T, np.dot(X, w) - t)\n",
        "    return grad"
      ],
      "metadata": {
        "id": "3qarQX-EjrkR"
      },
      "execution_count": 8,
      "outputs": []
    },
    {
      "cell_type": "code",
      "source": [
        "##======================= Main program =======================##\n",
        "parser = argparse.ArgumentParser('Simple Regression Exercise.')\n",
        "parser.add_argument('-i', '--input_data_dir',\n",
        "                    type=str,\n",
        "                    default='../content',\n",
        "                    help='Directory for the simple houses dataset.')\n",
        "FLAGS, unparsed = parser.parse_known_args()\n",
        "\n",
        "# Read the training and test data.\n",
        "Xtrain, ttrain = read_data(FLAGS.input_data_dir + \"/simple_train.txt\")\n",
        "Xtest, ttest = read_data(FLAGS.input_data_dir + \"/simple_test.txt\")\n",
        "\n",
        "# Compute mean and standard deviation of training data\n",
        "mean, std = mean_std(Xtrain)\n",
        "\n",
        "# Standardize the training and test features using the mean and std computed over training data.\n",
        "Xtrain_std = standardize(Xtrain, mean, std)\n",
        "Xtest_std = standardize(Xtest, mean, std)\n",
        "\n",
        "# Add a column of ones for bias features to each training and test example.\n",
        "Xtrain_std = np.hstack((np.ones((Xtrain_std.shape[0], 1)), Xtrain_std))\n",
        "Xtest_std = np.hstack((np.ones((Xtest_std.shape[0], 1)), Xtest_std))\n",
        "\n",
        "# Computing parameters for each training method for eta=0.1 and 200 epochs\n",
        "eta = 0.1\n",
        "epochs = 200\n",
        "\n",
        "w, eph, costs = train(Xtrain_std, ttrain, eta, epochs)"
      ],
      "metadata": {
        "colab": {
          "base_uri": "https://localhost:8080/"
        },
        "id": "b1LvtoyKjvpk",
        "outputId": "fb6dbf4f-1122-471f-c5e8-37a18c629d7b"
      },
      "execution_count": 29,
      "outputs": [
        {
          "output_type": "stream",
          "name": "stdout",
          "text": [
            "Epoch 0: Cost = 38779026900.0\n",
            "Epoch 10: Cost = 6518333498.253418\n",
            "Epoch 20: Cost = 2596186319.697016\n",
            "Epoch 30: Cost = 2119344786.9162884\n",
            "Epoch 40: Cost = 2061371988.5909686\n",
            "Epoch 50: Cost = 2054323849.7133222\n",
            "Epoch 60: Cost = 2053466960.5674884\n",
            "Epoch 70: Cost = 2053362782.851783\n",
            "Epoch 80: Cost = 2053350117.2736247\n",
            "Epoch 90: Cost = 2053348577.435004\n",
            "Epoch 100: Cost = 2053348390.2265754\n",
            "Epoch 110: Cost = 2053348367.466401\n",
            "Epoch 120: Cost = 2053348364.699296\n",
            "Epoch 130: Cost = 2053348364.36288\n",
            "Epoch 140: Cost = 2053348364.3219793\n",
            "Epoch 150: Cost = 2053348364.3170066\n",
            "Epoch 160: Cost = 2053348364.3164027\n",
            "Epoch 170: Cost = 2053348364.3163292\n",
            "Epoch 180: Cost = 2053348364.31632\n",
            "Epoch 190: Cost = 2053348364.316319\n",
            "Epoch 200: Cost = 2053348364.3163188\n"
          ]
        }
      ]
    },
    {
      "cell_type": "code",
      "source": [
        "# Print model parameters.\n",
        "print('Params GD: ', w)\n",
        "\n",
        "# Print cost and RMSE on training data.\n",
        "print('Training RMSE: %0.2f.' % compute_rmse(Xtrain_std, ttrain, w))\n",
        "print('Training cost: %0.2f.' % compute_cost(Xtrain_std, ttrain, w))\n",
        "\n",
        "# Print cost and RMSE on test data.\n",
        "print('Test RMSE: %0.2f.' % compute_rmse(Xtest_std, ttest, w))\n",
        "print('Test cost: %0.2f.' % compute_cost(Xtest_std, ttest, w))"
      ],
      "metadata": {
        "id": "QnRcjEInjvmR",
        "colab": {
          "base_uri": "https://localhost:8080/"
        },
        "outputId": "13916f5b-1fc8-476c-c5d7-f5ff01643e1c"
      },
      "execution_count": 30,
      "outputs": [
        {
          "output_type": "stream",
          "name": "stdout",
          "text": [
            "Params GD:  [254449.99983844  93308.92004686]\n",
            "Training RMSE: 64083.51.\n",
            "Training cost: 2053348364.32.\n",
            "Test RMSE: 65773.19.\n",
            "Test cost: 2163056350.74.\n"
          ]
        }
      ]
    },
    {
      "cell_type": "code",
      "source": [
        "# Plotting epochs vs. cost for gradient descent methods\n",
        "plt.xlabel('Epochs')\n",
        "plt.ylabel('Cost')\n",
        "plt.yscale('log')\n",
        "plt.plot(eph, costs, 'bo-', label='Train J(w) GD')\n",
        "plt.legend()\n",
        "plt.show()"
      ],
      "metadata": {
        "id": "FOFf4c83jvjb",
        "colab": {
          "base_uri": "https://localhost:8080/",
          "height": 449
        },
        "outputId": "1e1dc6e8-500f-4916-cbfa-711ae348c49e"
      },
      "execution_count": 33,
      "outputs": [
        {
          "output_type": "display_data",
          "data": {
            "text/plain": [
              "<Figure size 640x480 with 1 Axes>"
            ],
            "image/png": "[encoded data removed]"
          },
          "metadata": {}
        }
      ]
    },
    {
      "cell_type": "code",
      "source": [
        "# Plotting linear approximation for training data\n",
        "plt.xlabel('Floor sizes')\n",
        "plt.ylabel('House prices')\n",
        "plt.plot(Xtrain[:, 0], ttrain, 'bo', label='Training data')\n",
        "plt.plot(Xtest[:, 0], ttest, 'g^', label='Test data')\n",
        "plt.plot(Xtrain[:, 0], np.dot(Xtrain_std, w), 'b', label='GD')\n",
        "plt.legend()\n",
        "plt.show()"
      ],
      "metadata": {
        "id": "WP0v_RaQjvgm",
        "colab": {
          "base_uri": "https://localhost:8080/",
          "height": 449
        },
        "outputId": "ced6e242-7127-45a4-babf-8ff9133dc730"
      },
      "execution_count": 34,
      "outputs": [
        {
          "output_type": "display_data",
          "data": {
            "text/plain": [
              "<Figure size 640x480 with 1 Axes>"
            ],
            "image/png": "[encoded data removed]"
          },
          "metadata": {}
        }
      ]
    }
  ]
}