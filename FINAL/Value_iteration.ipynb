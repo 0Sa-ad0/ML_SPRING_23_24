{
  "nbformat": 4,
  "nbformat_minor": 0,
  "metadata": {
    "colab": {
      "provenance": []
    },
    "kernelspec": {
      "name": "python3",
      "display_name": "Python 3"
    },
    "language_info": {
      "name": "python"
    }
  },
  "cells": [
    {
      "cell_type": "code",
      "execution_count": 1,
      "metadata": {
        "id": "WlmubpIeThAB"
      },
      "outputs": [],
      "source": [
        "import numpy as np\n",
        "\n",
        "environment_rows = 11\n",
        "environment_columns = 11\n",
        "actions = ['up', 'right', 'down', 'left']"
      ]
    },
    {
      "cell_type": "code",
      "source": [
        "# Create 2D array to hold rewards for each state\n",
        "rewards = np.full((environment_rows, environment_columns), -100.)\n",
        "rewards[0, 5] = 100.\n",
        "\n",
        "aisles = {}\n",
        "aisles[1] = [i for i in range(1, 10)]\n",
        "aisles[2] = [1, 7, 9]\n",
        "aisles[3] = [i for i in range(1, 8)]\n",
        "aisles[3].append(9)\n",
        "aisles[4] = [3, 7]\n",
        "aisles[5] = [i for i in range(11)]\n",
        "aisles[6] = [5]\n",
        "aisles[7] = [i for i in range(1, 10)]\n",
        "aisles[8] = [3, 7]\n",
        "aisles[9] = [i for i in range(11)]\n",
        "\n",
        "for row_index in range(1, 10):\n",
        "    for column_index in aisles[row_index]:\n",
        "        rewards[row_index, column_index] = -1\n",
        "\n",
        "print('Rewards for each state:')\n",
        "for row in rewards:\n",
        "    print(row)"
      ],
      "metadata": {
        "colab": {
          "base_uri": "https://localhost:8080/"
        },
        "id": "jHaxnJ6WTumk",
        "outputId": "31e28123-28fd-4f60-a260-d42fb7134bb7"
      },
      "execution_count": 2,
      "outputs": [
        {
          "output_type": "stream",
          "name": "stdout",
          "text": [
            "Rewards for each state:\n",
            "[-100. -100. -100. -100. -100.  100. -100. -100. -100. -100. -100.]\n",
            "[-100.   -1.   -1.   -1.   -1.   -1.   -1.   -1.   -1.   -1. -100.]\n",
            "[-100.   -1. -100. -100. -100. -100. -100.   -1. -100.   -1. -100.]\n",
            "[-100.   -1.   -1.   -1.   -1.   -1.   -1.   -1. -100.   -1. -100.]\n",
            "[-100. -100. -100.   -1. -100. -100. -100.   -1. -100. -100. -100.]\n",
            "[-1. -1. -1. -1. -1. -1. -1. -1. -1. -1. -1.]\n",
            "[-100. -100. -100. -100. -100.   -1. -100. -100. -100. -100. -100.]\n",
            "[-100.   -1.   -1.   -1.   -1.   -1.   -1.   -1.   -1.   -1. -100.]\n",
            "[-100. -100. -100.   -1. -100. -100. -100.   -1. -100. -100. -100.]\n",
            "[-1. -1. -1. -1. -1. -1. -1. -1. -1. -1. -1.]\n",
            "[-100. -100. -100. -100. -100. -100. -100. -100. -100. -100. -100.]\n"
          ]
        }
      ]
    },
    {
      "cell_type": "code",
      "source": [
        "# initialize V value at each state\n",
        "V = np.zeros((environment_rows, environment_columns, 1))\n",
        "V[:, :, 0] = rewards"
      ],
      "metadata": {
        "id": "JAe11gujTvUS"
      },
      "execution_count": 3,
      "outputs": []
    },
    {
      "cell_type": "code",
      "source": [
        "# Print initialized values V\n",
        "print(V[:,:,0])"
      ],
      "metadata": {
        "colab": {
          "base_uri": "https://localhost:8080/"
        },
        "id": "MVXtcFlSud5l",
        "outputId": "024c3c78-4b33-4eca-94a4-4c7607a8ca54"
      },
      "execution_count": 4,
      "outputs": [
        {
          "output_type": "stream",
          "name": "stdout",
          "text": [
            "[[-100. -100. -100. -100. -100.  100. -100. -100. -100. -100. -100.]\n",
            " [-100.   -1.   -1.   -1.   -1.   -1.   -1.   -1.   -1.   -1. -100.]\n",
            " [-100.   -1. -100. -100. -100. -100. -100.   -1. -100.   -1. -100.]\n",
            " [-100.   -1.   -1.   -1.   -1.   -1.   -1.   -1. -100.   -1. -100.]\n",
            " [-100. -100. -100.   -1. -100. -100. -100.   -1. -100. -100. -100.]\n",
            " [  -1.   -1.   -1.   -1.   -1.   -1.   -1.   -1.   -1.   -1.   -1.]\n",
            " [-100. -100. -100. -100. -100.   -1. -100. -100. -100. -100. -100.]\n",
            " [-100.   -1.   -1.   -1.   -1.   -1.   -1.   -1.   -1.   -1. -100.]\n",
            " [-100. -100. -100.   -1. -100. -100. -100.   -1. -100. -100. -100.]\n",
            " [  -1.   -1.   -1.   -1.   -1.   -1.   -1.   -1.   -1.   -1.   -1.]\n",
            " [-100. -100. -100. -100. -100. -100. -100. -100. -100. -100. -100.]]\n"
          ]
        }
      ]
    },
    {
      "cell_type": "code",
      "source": [
        "# initialize policy at each state\n",
        "optimal_policy = np.zeros((environment_rows, environment_columns, 1))"
      ],
      "metadata": {
        "id": "9TSJmDSXTvNG"
      },
      "execution_count": 5,
      "outputs": []
    },
    {
      "cell_type": "code",
      "source": [
        "# define a function that determines if the specified location is a terminal state\n",
        "def is_terminal_state(current_row_index, current_column_index):\n",
        "    if rewards[current_row_index, current_column_index] == -1.:\n",
        "        return False\n",
        "    else:\n",
        "        return True"
      ],
      "metadata": {
        "id": "eAP80OwiTvKJ"
      },
      "execution_count": 6,
      "outputs": []
    },
    {
      "cell_type": "code",
      "source": [
        "# define a function that will get the next location based on the chosen action\n",
        "def get_next_location(current_row_index, current_column_index, action_index):\n",
        "    new_row_index = current_row_index\n",
        "    new_column_index = current_column_index\n",
        "    if actions[action_index] == 'up' and current_row_index > 0:\n",
        "        new_row_index -= 1\n",
        "    elif actions[action_index] == 'right' and current_column_index < environment_columns - 1:\n",
        "        new_column_index += 1\n",
        "    elif actions[action_index] == 'down' and current_row_index < environment_rows - 1:\n",
        "        new_row_index += 1\n",
        "    elif actions[action_index] == 'left' and current_column_index > 0:\n",
        "        new_column_index -= 1\n",
        "    return new_row_index, new_column_index"
      ],
      "metadata": {
        "id": "q4QBFzg3TvHZ"
      },
      "execution_count": 7,
      "outputs": []
    },
    {
      "cell_type": "code",
      "source": [
        "epsilon = 0.9 # percentage of time to take the best action (instead of a random action)\n",
        "pr_best = epsilon + (1 - epsilon) / 4 # probability of moving to the best adjacent location\n",
        "pr_others = (1 - epsilon) / 4 # probability of moving to the adjacent locations other than the best\n",
        "gamma = 0.9 # discount factor"
      ],
      "metadata": {
        "id": "adCS85lsXAnC"
      },
      "execution_count": 8,
      "outputs": []
    },
    {
      "cell_type": "code",
      "source": [
        "def value_iterations(V):\n",
        "    number_iterations = 0\n",
        "    while True:\n",
        "        # Store current values of states\n",
        "        oldV = V.copy()\n",
        "        # Iterate and update value and optimal policy of each state\n",
        "        for row_index in range(0,11):\n",
        "            for column_index in range(0,11):\n",
        "                if not is_terminal_state(row_index, column_index):\n",
        "                    Q = {}\n",
        "                    # Find value of taking each action a in current state s = (row_index, column_index) and store it in Q\n",
        "                    for a in range(0,4):\n",
        "                        new_row_index, new_column_index = get_next_location(row_index, column_index, a)\n",
        "\n",
        "                        #find out the other 3 non-favorable directions\n",
        "                        direction_index = np.array([0,1,2,3])\n",
        "                        other_direction_index = np.delete(direction_index, np.where(direction_index == a))\n",
        "                        other_row_index_1, other_column_index_1 = get_next_location(row_index, column_index, other_direction_index[0])\n",
        "                        other_row_index_2, other_column_index_2 = get_next_location(row_index, column_index, other_direction_index[1])\n",
        "                        other_row_index_3, other_column_index_3 = get_next_location(row_index, column_index, other_direction_index[2])\n",
        "\n",
        "                        # Compute Q[a] for the current state s = (row_index, column_index) and action a.\n",
        "                        Q[a] = rewards[new_row_index, new_column_index] + gamma * (pr_best * oldV[new_row_index, new_column_index, 0] +\n",
        "                                                pr_others * (oldV[other_row_index_1, other_column_index_1, 0] +\n",
        "                                                             oldV[other_row_index_2, other_column_index_2, 0] +\n",
        "                                                             oldV[other_row_index_3, other_column_index_3, 0]))\n",
        "\n",
        "                    # Update V(s) with the optimal value, given by the maximum value stored in Q where s is current state\n",
        "                    # Update optimal_policy(s) with the optimal action, given by the index of the maximum value stored in Q\n",
        "                    V[row_index,column_index,0] = max(Q.values())\n",
        "                    optimal_policy[row_index,column_index,0] = max(Q, key=Q.get)\n",
        "        number_iterations = number_iterations + 1\n",
        "        if (abs(oldV[:,:,0] - V[:,:,0])<0.01).all():\n",
        "            break\n",
        "    return V, optimal_policy, number_iterations"
      ],
      "metadata": {
        "id": "rifYx7BMTugx"
      },
      "execution_count": 9,
      "outputs": []
    },
    {
      "cell_type": "code",
      "source": [
        "# Obtain optimal value and policy\n",
        "V, optimal_policy, number_iterations = value_iterations(V)"
      ],
      "metadata": {
        "id": "4k7qymiNUsMO"
      },
      "execution_count": 10,
      "outputs": []
    },
    {
      "cell_type": "code",
      "source": [
        "# Print optimal policy and number of iterations\n",
        "optimal_policy = optimal_policy[:,:,0]\n",
        "print('Optimal policy:')\n",
        "print(optimal_policy)\n",
        "print('Iterations:')\n",
        "print(number_iterations)"
      ],
      "metadata": {
        "colab": {
          "base_uri": "https://localhost:8080/"
        },
        "id": "23pKH-OWUsAh",
        "outputId": "bf3e74f6-3ad9-4552-be34-aaf6a2d8cf7b"
      },
      "execution_count": 11,
      "outputs": [
        {
          "output_type": "stream",
          "name": "stdout",
          "text": [
            "Optimal policy:\n",
            "[[0. 0. 0. 0. 0. 0. 0. 0. 0. 0. 0.]\n",
            " [0. 1. 1. 1. 1. 0. 3. 3. 3. 3. 0.]\n",
            " [0. 0. 0. 0. 0. 0. 0. 0. 0. 0. 0.]\n",
            " [0. 0. 3. 1. 1. 1. 1. 0. 0. 0. 0.]\n",
            " [0. 0. 0. 0. 0. 0. 0. 0. 0. 0. 0.]\n",
            " [1. 1. 1. 1. 1. 1. 1. 0. 3. 3. 3.]\n",
            " [0. 0. 0. 0. 0. 0. 0. 0. 0. 0. 0.]\n",
            " [0. 1. 1. 1. 1. 0. 3. 3. 3. 3. 0.]\n",
            " [0. 0. 0. 0. 0. 0. 0. 0. 0. 0. 0.]\n",
            " [1. 1. 1. 0. 3. 1. 1. 0. 3. 3. 3.]\n",
            " [0. 0. 0. 0. 0. 0. 0. 0. 0. 0. 0.]]\n",
            "Iterations:\n",
            "27\n"
          ]
        }
      ]
    }
  ]
}