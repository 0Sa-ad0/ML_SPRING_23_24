{
  "nbformat": 4,
  "nbformat_minor": 0,
  "metadata": {
    "colab": {
      "provenance": []
    },
    "kernelspec": {
      "name": "python3",
      "display_name": "Python 3"
    },
    "language_info": {
      "name": "python"
    }
  },
  "cells": [
    {
      "cell_type": "code",
      "execution_count": 1,
      "metadata": {
        "id": "gqKnq9spKTOF"
      },
      "outputs": [],
      "source": [
        "import argparse\n",
        "import numpy as np\n",
        "import matplotlib.pyplot as plt"
      ]
    },
    {
      "cell_type": "code",
      "source": [
        "# Compute the sample mean and standard deviations for each feature (column)\n",
        "# across the training examples (rows) from the data matrix X.\n",
        "def mean_std(X):\n",
        "    mean = np.mean(X, axis=0)\n",
        "    std = np.std(X, axis=0)\n",
        "    return mean, std"
      ],
      "metadata": {
        "id": "BJ6oXVVkKgsL"
      },
      "execution_count": 2,
      "outputs": []
    },
    {
      "cell_type": "code",
      "source": [
        "# Standardize the features of the examples in X by subtracting their mean and\n",
        "# dividing by their standard deviation, as provided in the parameters.\n",
        "def standardize(X, mean, std):\n",
        "    return (X - mean) / std"
      ],
      "metadata": {
        "id": "7rKP1dEuKgpC"
      },
      "execution_count": 3,
      "outputs": []
    },
    {
      "cell_type": "code",
      "source": [
        "# Read data matrix X and labels t from text file.\n",
        "def read_data(file_name):\n",
        "    data = np.loadtxt(file_name)\n",
        "    X = data[:, :-1]\n",
        "    t = data[:, -1]\n",
        "    return X, t"
      ],
      "metadata": {
        "id": "stGnJMRQKgmB"
      },
      "execution_count": 4,
      "outputs": []
    },
    {
      "cell_type": "code",
      "source": [
        "\n",
        "# Implement gradient descent algorithm to compute w = [w0, w1, ..].\n",
        "def train(X, t, eta, epochs):\n",
        "    costs = []\n",
        "    ep = []\n",
        "    w = np.zeros(X.shape[1])\n",
        "\n",
        "    for epoch in range(epochs):\n",
        "        # Compute gradient\n",
        "        grad = compute_gradient(X, t, w)\n",
        "\n",
        "        # Update weights\n",
        "        w -= eta * grad\n",
        "\n",
        "        # Compute cost\n",
        "        if epoch % 10 == 0:\n",
        "            cost = compute_cost(X, t, w)\n",
        "            costs.append(cost)\n",
        "            ep.append(epoch)\n",
        "\n",
        "    return w, ep, costs"
      ],
      "metadata": {
        "id": "3Bbxt3L5KgjC"
      },
      "execution_count": 5,
      "outputs": []
    },
    {
      "cell_type": "code",
      "source": [
        "# Compute RMSE on dataset (X, t).\n",
        "def compute_rmse(X, t, w):\n",
        "    y_pred = np.dot(X, w)\n",
        "    mse = np.mean((y_pred - t) ** 2)\n",
        "    rmse = np.sqrt(mse)\n",
        "    return rmse"
      ],
      "metadata": {
        "id": "Nuxpgkb9Kgdy"
      },
      "execution_count": 6,
      "outputs": []
    },
    {
      "cell_type": "code",
      "source": [
        "# Compute objective function (cost) on dataset (X, t).\n",
        "def compute_cost(X, t, w):\n",
        "    N = len(t)\n",
        "    y_pred = np.dot(X, w)\n",
        "    error = y_pred - t\n",
        "    cost = (1 / (2 * N)) * np.sum(error ** 2)\n",
        "    return cost"
      ],
      "metadata": {
        "id": "7bkqwcSmKgbA"
      },
      "execution_count": 7,
      "outputs": []
    },
    {
      "cell_type": "code",
      "source": [
        "# Compute gradient of the objective function (cost) on dataset (X, t).\n",
        "def compute_gradient(X, t, w):\n",
        "    N = len(t)\n",
        "    y_pred = np.dot(X, w)\n",
        "    error = y_pred - t\n",
        "    grad = (1 / N) * np.dot(X.T, error)\n",
        "    return grad"
      ],
      "metadata": {
        "id": "nYVdnF9nKgTu"
      },
      "execution_count": 8,
      "outputs": []
    },
    {
      "cell_type": "code",
      "source": [
        "# BONUS: Implement stochastic gradient descent algorithm to compute w = [w0, w1, ..].\n",
        "def train_SGD(X, t, eta, epochs):\n",
        "    costs = []\n",
        "    ep = []\n",
        "    w = np.zeros(X.shape[1])\n",
        "\n",
        "    for epoch in range(epochs):\n",
        "        # Shuffle data\n",
        "        idx = np.random.permutation(len(t))\n",
        "        X_shuffled = X[idx]\n",
        "        t_shuffled = t[idx]\n",
        "\n",
        "        for i in range(len(t)):\n",
        "            # Compute gradient for a single example\n",
        "            grad = compute_gradient(X_shuffled[i:i+1], t_shuffled[i:i+1], w)\n",
        "            # Update weights\n",
        "            w -= eta * grad\n",
        "\n",
        "        # Compute cost\n",
        "        if epoch % 10 == 0:\n",
        "            cost = compute_cost(X, t, w)\n",
        "            costs.append(cost)\n",
        "            ep.append(epoch)\n",
        "\n",
        "    return w, ep, costs"
      ],
      "metadata": {
        "id": "4jeO6GzcKgRH"
      },
      "execution_count": 9,
      "outputs": []
    },
    {
      "cell_type": "code",
      "source": [
        "##======================= Main program =======================##\n",
        "if __name__ == \"__main__\":\n",
        "    parser = argparse.ArgumentParser('Multiple Regression Exercise.')\n",
        "    parser.add_argument('-i', '--input_data_dir',\n",
        "                        type=str,\n",
        "                        default='../content',\n",
        "                        help='Directory for the multiple regression houses dataset.')\n",
        "    FLAGS, unparsed = parser.parse_known_args()\n",
        "\n",
        "    # Read the training and test data.\n",
        "    Xtrain, ttrain = read_data(FLAGS.input_data_dir + \"/multiple_train.txt\")\n",
        "    Xtest, ttest = read_data(FLAGS.input_data_dir + \"/multiple_test.txt\")\n",
        "\n",
        "    # Compute mean and std for feature scaling\n",
        "    mean, std = mean_std(Xtrain)\n",
        "\n",
        "    # Standardize the training and test features\n",
        "    Xtrain = np.column_stack((np.ones(len(Xtrain)), standardize(Xtrain, mean, std)))\n",
        "    Xtest = np.column_stack((np.ones(len(Xtest)), standardize(Xtest, mean, std)))\n",
        "\n",
        "    # Computing parameters for each training method for eta=0.1 and 200 epochs\n",
        "    eta = 0.1\n",
        "    epochs = 200\n",
        "    w, eph, costs = train(Xtrain, ttrain, eta, epochs)\n",
        "    w_sgd, eph_sgd, costs_sgd = train_SGD(Xtrain, ttrain, eta, epochs)"
      ],
      "metadata": {
        "id": "aeizufEfKgOQ"
      },
      "execution_count": 10,
      "outputs": []
    },
    {
      "cell_type": "code",
      "source": [
        "    # Print model parameters.\n",
        "    print('Params GD: ', w)\n",
        "    print('Params SGD: ', w_sgd)"
      ],
      "metadata": {
        "colab": {
          "base_uri": "https://localhost:8080/"
        },
        "id": "cZKDCfTNKgLh",
        "outputId": "9c87eb78-cea0-4844-91ba-874467570337"
      },
      "execution_count": 11,
      "outputs": [
        {
          "output_type": "stream",
          "name": "stdout",
          "text": [
            "Params GD:  [254449.99982048  78079.18106675  24442.5758378    2075.95636731]\n",
            "Params SGD:  [244725.02784711  60796.05501517   5741.89896367  13680.33192678]\n"
          ]
        }
      ]
    },
    {
      "cell_type": "code",
      "source": [
        "    # Print cost and RMSE on training data.\n",
        "    print('Training RMSE (GD): %0.2f.' % compute_rmse(Xtrain, ttrain, w))\n",
        "    print('Training cost (GD): %0.2f.' % compute_cost(Xtrain, ttrain, w))\n",
        "    print('Training RMSE (SGD): %0.2f.' % compute_rmse(Xtrain, ttrain, w_sgd))\n",
        "    print('Training cost (SGD): %0.2f.' % compute_cost(Xtrain, ttrain, w_sgd))"
      ],
      "metadata": {
        "colab": {
          "base_uri": "https://localhost:8080/"
        },
        "id": "HEsIA1O8KgIf",
        "outputId": "a57ff142-862b-4355-b4f2-e89784019ee2"
      },
      "execution_count": 12,
      "outputs": [
        {
          "output_type": "stream",
          "name": "stdout",
          "text": [
            "Training RMSE (GD): 61070.62.\n",
            "Training cost (GD): 1864810304.94.\n",
            "Training RMSE (SGD): 70742.51.\n",
            "Training cost (SGD): 2502251097.92.\n"
          ]
        }
      ]
    },
    {
      "cell_type": "code",
      "source": [
        "    # Print cost and RMSE on test data.\n",
        "    print('Test RMSE (GD): %0.2f.' % compute_rmse(Xtest, ttest, w))\n",
        "    print('Test cost (GD): %0.2f.' % compute_cost(Xtest, ttest, w))\n",
        "    print('Test RMSE (SGD): %0.2f.' % compute_rmse(Xtest, ttest, w_sgd))\n",
        "    print('Test cost (SGD): %0.2f.' % compute_cost(Xtest, ttest, w_sgd))"
      ],
      "metadata": {
        "colab": {
          "base_uri": "https://localhost:8080/"
        },
        "id": "pOnGFrLcKf9W",
        "outputId": "e03c31f5-3ddf-448e-d1f0-55a694a4529e"
      },
      "execution_count": 13,
      "outputs": [
        {
          "output_type": "stream",
          "name": "stdout",
          "text": [
            "Test RMSE (GD): 58473.59.\n",
            "Test cost (GD): 1709580288.69.\n",
            "Test RMSE (SGD): 58474.67.\n",
            "Test cost (SGD): 1709643410.39.\n"
          ]
        }
      ]
    },
    {
      "cell_type": "code",
      "source": [
        "    # Plotting Epochs vs. cost for Gradient descent methods\n",
        "    plt.xlabel('epochs')\n",
        "    plt.ylabel('cost')\n",
        "    plt.yscale('log')\n",
        "    plt.plot(eph, costs, 'bo-', label='train_Jw_gd')\n",
        "    plt.plot(eph_sgd, costs_sgd, 'ro-', label='train_Jw_sgd')\n",
        "    plt.legend()\n",
        "    plt.show()"
      ],
      "metadata": {
        "colab": {
          "base_uri": "https://localhost:8080/",
          "height": 449
        },
        "id": "mNXa1O_3LLFe",
        "outputId": "1c206348-c7f6-4456-a261-883b43ff6894"
      },
      "execution_count": 14,
      "outputs": [
        {
          "output_type": "display_data",
          "data": {
            "text/plain": [
              "<Figure size 640x480 with 1 Axes>"
            ],
            "image/png": "[encoded data removed]"
          },
          "metadata": {}
        }
      ]
    }
  ]
}