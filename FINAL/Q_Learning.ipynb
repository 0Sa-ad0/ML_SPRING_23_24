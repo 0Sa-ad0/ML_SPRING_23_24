{
  "nbformat": 4,
  "nbformat_minor": 0,
  "metadata": {
    "colab": {
      "provenance": []
    },
    "kernelspec": {
      "name": "python3",
      "display_name": "Python 3"
    },
    "language_info": {
      "name": "python"
    }
  },
  "cells": [
    {
      "cell_type": "code",
      "execution_count": 1,
      "metadata": {
        "id": "6P9GT3hCu_yJ"
      },
      "outputs": [],
      "source": [
        "import numpy as np"
      ]
    },
    {
      "cell_type": "code",
      "source": [
        "# Define the environment\n",
        "environment_rows = 11\n",
        "environment_columns = 11"
      ],
      "metadata": {
        "id": "rF1JkR-Xz3Bv"
      },
      "execution_count": 2,
      "outputs": []
    },
    {
      "cell_type": "code",
      "source": [
        "# Create a 3D numpy array to hold the current Q-values for each state and action pair: Q(s, a)\n",
        "q_values = np.zeros((environment_rows, environment_columns, 4))"
      ],
      "metadata": {
        "id": "MzN2HjiVz2_G"
      },
      "execution_count": 3,
      "outputs": []
    },
    {
      "cell_type": "code",
      "source": [
        "# Define actions\n",
        "actions = ['up', 'right', 'down', 'left']"
      ],
      "metadata": {
        "id": "HqbE8YJvz27_"
      },
      "execution_count": 4,
      "outputs": []
    },
    {
      "cell_type": "code",
      "source": [
        "# Define rewards\n",
        "rewards = np.full((environment_rows, environment_columns), -100.)\n",
        "rewards[0, 5] = 100."
      ],
      "metadata": {
        "id": "2dnx3smaz243"
      },
      "execution_count": 5,
      "outputs": []
    },
    {
      "cell_type": "code",
      "source": [
        "aisles = {}\n",
        "aisles[1] = [i for i in range(1, 10)]\n",
        "aisles[2] = [1, 7, 9]\n",
        "aisles[3] = [i for i in range(1, 8)]\n",
        "aisles[3].append(9)\n",
        "aisles[4] = [3, 7]\n",
        "aisles[5] = [i for i in range(11)]\n",
        "aisles[6] = [5]\n",
        "aisles[7] = [i for i in range(1, 10)]\n",
        "aisles[8] = [3, 7]\n",
        "aisles[9] = [i for i in range(11)]\n",
        "\n",
        "for row_index in range(1, 10):\n",
        "    for column_index in aisles[row_index]:\n",
        "        rewards[row_index, column_index] = -1."
      ],
      "metadata": {
        "id": "Fcqn7Whoz22L"
      },
      "execution_count": 6,
      "outputs": []
    },
    {
      "cell_type": "code",
      "source": [
        "# Define helper functions\n",
        "def is_terminal_state(current_row_index, current_column_index):\n",
        "    if rewards[current_row_index, current_column_index] == -1.:\n",
        "        return False\n",
        "    else:\n",
        "        return True\n",
        "\n",
        "def get_starting_location():\n",
        "    current_row_index = np.random.randint(environment_rows)\n",
        "    current_column_index = np.random.randint(environment_columns)\n",
        "    while is_terminal_state(current_row_index, current_column_index):\n",
        "        current_row_index = np.random.randint(environment_rows)\n",
        "        current_column_index = np.random.randint(environment_columns)\n",
        "    return current_row_index, current_column_index\n",
        "\n",
        "def get_next_action(current_row_index, current_column_index, epsilon):\n",
        "    if np.random.random() < epsilon:\n",
        "        return np.argmax(q_values[current_row_index, current_column_index])\n",
        "    else:\n",
        "        return np.random.randint(4)\n",
        "\n",
        "def get_next_location(current_row_index, current_column_index, action_index):\n",
        "    new_row_index = current_row_index\n",
        "    new_column_index = current_column_index\n",
        "    if actions[action_index] == 'up' and current_row_index > 0:\n",
        "        new_row_index -= 1\n",
        "    elif actions[action_index] == 'right' and current_column_index < environment_columns - 1:\n",
        "        new_column_index += 1\n",
        "    elif actions[action_index] == 'down' and current_row_index < environment_rows - 1:\n",
        "        new_row_index += 1\n",
        "    elif actions[action_index] == 'left' and current_column_index > 0:\n",
        "        new_column_index -= 1\n",
        "    return new_row_index, new_column_index\n",
        "\n",
        "def get_shortest_path(start_row_index, start_column_index):\n",
        "    if is_terminal_state(start_row_index, start_column_index):\n",
        "        return []\n",
        "    else:\n",
        "        current_row_index, current_column_index = start_row_index, start_column_index\n",
        "        shortest_path = []\n",
        "        shortest_path.append([current_row_index, current_column_index])\n",
        "        while not is_terminal_state(current_row_index, current_column_index):\n",
        "            action_index = get_next_action(current_row_index, current_column_index, 1.)\n",
        "            current_row_index, current_column_index = get_next_location(current_row_index, current_column_index, action_index)\n",
        "            shortest_path.append([current_row_index, current_column_index])\n",
        "        return shortest_path"
      ],
      "metadata": {
        "id": "jHQS_aUCz2zg"
      },
      "execution_count": 7,
      "outputs": []
    },
    {
      "cell_type": "code",
      "source": [
        "# Train the model\n",
        "epsilon = 0.9\n",
        "discount_factor = 0.9\n",
        "learning_rate = 0.9\n",
        "\n",
        "for episode in range(1000):\n",
        "    row_index, column_index = get_starting_location()\n",
        "    while not is_terminal_state(row_index, column_index):\n",
        "        action_index = get_next_action(row_index, column_index, epsilon)\n",
        "        old_row_index, old_column_index = row_index, column_index\n",
        "        row_index, column_index = get_next_location(row_index, column_index, action_index)\n",
        "        reward = rewards[row_index, column_index]\n",
        "        old_q_value = q_values[old_row_index, old_column_index, action_index]\n",
        "        temporal_difference = reward + discount_factor * np.max(q_values[row_index, column_index]) - old_q_value\n",
        "        new_q_value = old_q_value + learning_rate * temporal_difference\n",
        "        q_values[old_row_index, old_column_index, action_index] = new_q_value\n",
        "\n",
        "print('Training complete!')"
      ],
      "metadata": {
        "colab": {
          "base_uri": "https://localhost:8080/"
        },
        "id": "8lUWqBpUz2w6",
        "outputId": "d58d5817-4c05-4070-f1bf-e490b9e75d21"
      },
      "execution_count": 8,
      "outputs": [
        {
          "output_type": "stream",
          "name": "stdout",
          "text": [
            "Training complete!\n"
          ]
        }
      ]
    },
    {
      "cell_type": "code",
      "source": [
        "# Get shortest paths\n",
        "print('get_shortest_path(3,9) = ', get_shortest_path(3, 9))\n",
        "print('get_shortest_path(5,0) = ', get_shortest_path(5, 0))\n",
        "print('get_shortest_path(9, 5) = ', get_shortest_path(9, 5))"
      ],
      "metadata": {
        "colab": {
          "base_uri": "https://localhost:8080/"
        },
        "id": "RaQriBz5z2uP",
        "outputId": "34ed4b22-6504-4c3f-ef04-2677a77585c0"
      },
      "execution_count": 11,
      "outputs": [
        {
          "output_type": "stream",
          "name": "stdout",
          "text": [
            "get_shortest_path(3,9) =  [[3, 9], [2, 9], [1, 9], [1, 8], [1, 7], [1, 6], [1, 5], [0, 5]]\n",
            "get_shortest_path(5,0) =  [[5, 0], [5, 1], [5, 2], [5, 3], [4, 3], [3, 3], [3, 4], [3, 5], [3, 6], [3, 7], [2, 7], [1, 7], [1, 6], [1, 5], [0, 5]]\n",
            "get_shortest_path(9, 5) =  [[9, 5], [9, 6], [9, 7], [8, 7], [7, 7], [7, 6], [7, 5], [6, 5], [5, 5], [5, 6], [5, 7], [4, 7], [3, 7], [2, 7], [1, 7], [1, 6], [1, 5], [0, 5]]\n"
          ]
        }
      ]
    },
    {
      "cell_type": "code",
      "source": [
        "# Reverse shortest path\n",
        "path = get_shortest_path(5, 2)\n",
        "path.reverse()\n",
        "print('reverse(get_shortest_path(5, 2)) = ', path)"
      ],
      "metadata": {
        "colab": {
          "base_uri": "https://localhost:8080/"
        },
        "id": "OHi5izslz2sO",
        "outputId": "6139c5dc-1493-4d3b-a4bd-fcaadca19758"
      },
      "execution_count": 12,
      "outputs": [
        {
          "output_type": "stream",
          "name": "stdout",
          "text": [
            "reverse(get_shortest_path(5, 2)) =  [[0, 5], [1, 5], [1, 6], [1, 7], [2, 7], [3, 7], [3, 6], [3, 5], [3, 4], [3, 3], [4, 3], [5, 3], [5, 2]]\n"
          ]
        }
      ]
    }
  ]
}