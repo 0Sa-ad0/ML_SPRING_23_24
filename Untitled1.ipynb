{
  "nbformat": 4,
  "nbformat_minor": 0,
  "metadata": {
    "colab": {
      "provenance": []
    },
    "kernelspec": {
      "name": "python3",
      "display_name": "Python 3"
    },
    "language_info": {
      "name": "python"
    }
  },
  "cells": [
    {
      "cell_type": "code",
      "execution_count": null,
      "metadata": {
        "id": "uX4LQbUvhxOE"
      },
      "outputs": [],
      "source": [
        "import numpy as np\n",
        "import matplotlib.pyplot as plt\n",
        "\n",
        "np.random.seed(42)"
      ]
    },
    {
      "cell_type": "code",
      "source": [
        "X = np.array([[0,0], [0,1], [1,0], [1,1]])\n",
        "Y = np.array([[0], [1], [1], [0]])"
      ],
      "metadata": {
        "id": "SsFgA0qsimri"
      },
      "execution_count": null,
      "outputs": []
    },
    {
      "cell_type": "code",
      "source": [
        "class NeuralNet(object):\n",
        "        def __init__(self): #constructor\n",
        "                inputLayerNeurons = 2\n",
        "                hiddenLayerNeurons = 10\n",
        "                outputLayerNeurons = 1\n",
        "\n",
        "                self.lr = 0.2\n",
        "                self.W_HI = np.random.randn(inputLayerNeurons, hiddenLayerNeurons)\n",
        "                self.W_OH = np.random.randn(hiddenLayerNeurons, outputLayerNeurons)\n",
        "\n",
        "        def sigmoid(self, x, der = False):\n",
        "                if der == False:\n",
        "                        return 1/(1+np.exp(-x))\n",
        "                else:\n",
        "                        return x*(1-x)\n",
        "\n",
        "        def ForwardPass(self, x):\n",
        "                hidden_input = np.dot(x, self.W_HI)\n",
        "                self.hidden_output = self.sigmoid(hidden_input)\n",
        "\n",
        "                output_input = np.dot(self.hidden_output, self.W_OH)\n",
        "                pred = self.sigmoid(output_input)\n",
        "                return pred\n",
        "\n",
        "        def BackProp(self, x, y, pred):\n",
        "                output_error = y-pred\n",
        "                output_delta = self.lr * output_error * self.sigmoid(pred, der = True)\n",
        "\n",
        "                hidden_error = output_delta.dot(self.W_OH.T)\n",
        "                hidden_delta = self.lr * hidden_error * self.sigmoid(self.hidden_output, der=True)\n",
        "\n",
        "                self.W_HI += x.T.dot(hidden_delta)\n",
        "                self.W_OH += self.hidden_output.T.dot(output_delta)\n",
        "\n",
        "        def Train(self, x, y):\n",
        "                a = self.ForwardPass(x)\n",
        "                self.BackProp(x,y,a)\n"
      ],
      "metadata": {
        "id": "qOzdnIe9itIk"
      },
      "execution_count": null,
      "outputs": []
    },
    {
      "cell_type": "code",
      "source": [
        "obj = NeuralNet()"
      ],
      "metadata": {
        "id": "MoYHhGYPqHUs"
      },
      "execution_count": null,
      "outputs": []
    },
    {
      "cell_type": "code",
      "source": [
        "pred = obj.ForwardPass([0,1])\n",
        "print (pred)"
      ],
      "metadata": {
        "colab": {
          "base_uri": "https://localhost:8080/"
        },
        "id": "C9oVAlK7qK8i",
        "outputId": "25c20d9e-88ef-4ee6-c77a-11e2f5c7f038"
      },
      "execution_count": null,
      "outputs": [
        {
          "output_type": "stream",
          "name": "stdout",
          "text": [
            "[0.49304146]\n"
          ]
        }
      ]
    },
    {
      "cell_type": "code",
      "source": [
        "obj.W_OH"
      ],
      "metadata": {
        "colab": {
          "base_uri": "https://localhost:8080/"
        },
        "id": "9cD4Ze2tqU4O",
        "outputId": "b309642d-3a53-4afc-e5ec-4a5643e3aa14"
      },
      "execution_count": null,
      "outputs": [
        {
          "output_type": "execute_result",
          "data": {
            "text/plain": [
              "array([[ 1.46564877],\n",
              "       [-0.2257763 ],\n",
              "       [ 0.0675282 ],\n",
              "       [-1.42474819],\n",
              "       [-0.54438272],\n",
              "       [ 0.11092259],\n",
              "       [-1.15099358],\n",
              "       [ 0.37569802],\n",
              "       [-0.60063869],\n",
              "       [-0.29169375]])"
            ]
          },
          "metadata": {},
          "execution_count": 6
        }
      ]
    },
    {
      "cell_type": "code",
      "source": [
        "obj.W_HI"
      ],
      "metadata": {
        "colab": {
          "base_uri": "https://localhost:8080/"
        },
        "id": "IoZ8p2J5qeHH",
        "outputId": "82d9d69c-95c8-4a56-8e8b-3d79ef058ea3"
      },
      "execution_count": null,
      "outputs": [
        {
          "output_type": "execute_result",
          "data": {
            "text/plain": [
              "array([[ 0.49671415, -0.1382643 ,  0.64768854,  1.52302986, -0.23415337,\n",
              "        -0.23413696,  1.57921282,  0.76743473, -0.46947439,  0.54256004],\n",
              "       [-0.46341769, -0.46572975,  0.24196227, -1.91328024, -1.72491783,\n",
              "        -0.56228753, -1.01283112,  0.31424733, -0.90802408, -1.4123037 ]])"
            ]
          },
          "metadata": {},
          "execution_count": 7
        }
      ]
    },
    {
      "cell_type": "code",
      "source": [
        "err = []\n",
        "for i in range(1000):\n",
        "  obj.Train(X, Y)\n",
        "  err.append(np.mean(np.square(Y-obj.ForwardPass(X))))"
      ],
      "metadata": {
        "id": "QX361FUhqi4i"
      },
      "execution_count": null,
      "outputs": []
    },
    {
      "cell_type": "code",
      "source": [
        "plt.plot(err)"
      ],
      "metadata": {
        "colab": {
          "base_uri": "https://localhost:8080/",
          "height": 447
        },
        "id": "zJg139brrVcQ",
        "outputId": "004abe36-52a7-43c8-8952-31ee270704bb"
      },
      "execution_count": null,
      "outputs": [
        {
          "output_type": "execute_result",
          "data": {
            "text/plain": [
              "[<matplotlib.lines.Line2D at 0x7c1fbf486020>]"
            ]
          },
          "metadata": {},
          "execution_count": 9
        },
        {
          "output_type": "display_data",
          "data": {
            "text/plain": [
              "<Figure size 640x480 with 1 Axes>"
            ],
            "image/png": "[encoded data removed]"
          },
          "metadata": {}
        }
      ]
    },
    {
      "cell_type": "code",
      "source": [
        "pred = obj.ForwardPass([0,0])\n",
        "print (pred)"
      ],
      "metadata": {
        "id": "su9pxruCub47",
        "colab": {
          "base_uri": "https://localhost:8080/"
        },
        "outputId": "771ba281-9831-4a35-adec-1cecb5903172"
      },
      "execution_count": null,
      "outputs": [
        {
          "output_type": "stream",
          "name": "stdout",
          "text": [
            "[0.45073899]\n"
          ]
        }
      ]
    },
    {
      "cell_type": "code",
      "source": [
        "pred = obj.ForwardPass([0,1])\n",
        "print (pred)"
      ],
      "metadata": {
        "id": "OMqP4oTKugAk",
        "colab": {
          "base_uri": "https://localhost:8080/"
        },
        "outputId": "0c14e702-a11e-479a-eba6-fc9e8d1e9eee"
      },
      "execution_count": null,
      "outputs": [
        {
          "output_type": "stream",
          "name": "stdout",
          "text": [
            "[0.53613918]\n"
          ]
        }
      ]
    },
    {
      "cell_type": "code",
      "source": [
        "pred = obj.ForwardPass([1,0])\n",
        "print (pred)"
      ],
      "metadata": {
        "id": "QD_v0zpEuhdp",
        "colab": {
          "base_uri": "https://localhost:8080/"
        },
        "outputId": "c276288b-d1a0-4068-dce2-157cc4122dda"
      },
      "execution_count": null,
      "outputs": [
        {
          "output_type": "stream",
          "name": "stdout",
          "text": [
            "[0.52326685]\n"
          ]
        }
      ]
    },
    {
      "cell_type": "code",
      "source": [
        "pred = obj.ForwardPass([1,1])\n",
        "print (pred)"
      ],
      "metadata": {
        "id": "doJEl7VtulFU",
        "colab": {
          "base_uri": "https://localhost:8080/"
        },
        "outputId": "bf03318c-9cfb-49a7-fcdb-802f298fb908"
      },
      "execution_count": null,
      "outputs": [
        {
          "output_type": "stream",
          "name": "stdout",
          "text": [
            "[0.48119665]\n"
          ]
        }
      ]
    }
  ]
}